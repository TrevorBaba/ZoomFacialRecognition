{
 "cells": [
  {
   "cell_type": "markdown",
   "metadata": {},
   "source": [
    "# Week 5 : Appling ML to Facial Recognition"
   ]
  },
  {
   "cell_type": "code",
   "execution_count": 4,
   "metadata": {},
   "outputs": [],
   "source": [
    "import PIL\n",
    "from PIL import Image, ImageChops, ImageFilter\n",
    "from PIL import ImageDraw\n",
    "import numpy as np\n",
    "import os\n",
    "import sys\n",
    "import re\n",
    "import pandas as pd\n",
    "import datetime\n",
    "import csv\n",
    "\n",
    "import matplotlib.pyplot as plt\n",
    "import matplotlib.gridspec as gridspec\n",
    "from matplotlib.colors import ListedColormap\n",
    "import seaborn as sns\n",
    "from datetime import datetime\n",
    "import face_recognition\n",
    "import shutil\n",
    "from sklearn import datasets, linear_model\n",
    "from sklearn.metrics import mean_squared_error, r2_score\n",
    "from sklearn.model_selection import train_test_split\n",
    "from sklearn.linear_model import LinearRegression\n",
    "from sklearn.linear_model import LogisticRegression\n",
    "from sklearn.metrics import mean_absolute_error\n",
    "from sklearn.preprocessing import PolynomialFeatures\n",
    "from sklearn.preprocessing import StandardScaler\n",
    "from sklearn.pipeline import Pipeline\n",
    "from sklearn import tree\n",
    "from sklearn import ensemble\n",
    "from sklearn.svm import SVC \n",
    "import face_recognition\n",
    "import time"
   ]
  },
  {
   "cell_type": "markdown",
   "metadata": {},
   "source": [
    "## Taking in training images "
   ]
  },
  {
   "cell_type": "code",
   "execution_count": 5,
   "metadata": {},
   "outputs": [],
   "source": [
    "#connecting to anvil web interface \n",
    "\n",
    "import anvil.server\n",
    "anvil.server.connect(\"R66H5C26JAYU6ZPFTRC7CGG4-6PMVI4VIMJGTTT72\")\n"
   ]
  },
  {
   "cell_type": "markdown",
   "metadata": {},
   "source": [
    "## Creating an Attendance Pipeline for General Classifiers"
   ]
  },
  {
   "cell_type": "markdown",
   "metadata": {},
   "source": [
    "Look for the comment \" ##### Change to Model of Choice \" in order to implement this pipeline with a different model. The default one provided here is a support vector machine. \n",
    "\n",
    "Apply the .fit and .predict principles from the previous notebook."
   ]
  },
  {
   "cell_type": "code",
   "execution_count": 6,
   "metadata": {},
   "outputs": [],
   "source": [
    "##### Change to Model of Choice\n",
    "clf = SVC(gamma='scale', kernel='poly')\n",
    "\n",
    "\n",
    "##### Change to Model of Choice\n",
    "def face_recognize(dir, test, pred):\n",
    "    encodings = []\n",
    "    names = []\n",
    "    attendance = set()\n",
    "    \n",
    "    #prediction - after the model has been trained \n",
    "    if pred == 1:\n",
    "        test_image = face_recognition.load_image_file(test)\n",
    "\n",
    "        # Find all the faces in the test image using the default HOG-based model\n",
    "        face_locations = face_recognition.face_locations(test_image)\n",
    "        no = len(face_locations)\n",
    "\n",
    "        # Predict all the faces in the test image using the trained classifier\n",
    "        for i in range(no):\n",
    "            test_image_enc = face_recognition.face_encodings(test_image)[i]\n",
    "            \n",
    "            ##### Change to Model of Choice\n",
    "            name = clf.predict([test_image_enc])\n",
    "            \n",
    "            if name == 'unknown-male' or name == 'unknown-female':\n",
    "                location = face_locations[i]\n",
    "                tup = (location, *name)\n",
    "                attendance.add(tup)\n",
    "            \n",
    "            ##### Change to Model of Choice\n",
    "            else: \n",
    "                attendance.add(*name)\n",
    "            \n",
    "        return attendance\n",
    "\n",
    "\n",
    "    # Training the SVC classifier\n",
    "    # The training data would be all the\n",
    "    # face encodings from all the known\n",
    "    # images and the labels are their names\n",
    "\n",
    "\n",
    "    # Training directory\n",
    "    if dir[-1]!='/':\n",
    "        dir += '/'\n",
    "    train_dir = os.listdir(dir)\n",
    "\n",
    "    # Loop through each person in the training directory\n",
    "    for person in train_dir:\n",
    "        if 'DS_Store' in person:\n",
    "            continue\n",
    "        pix = os.listdir(dir + person)\n",
    "\n",
    "        # Loop through each training image for the current person\n",
    "        for person_img in pix:\n",
    "            if 'DS_Store' in person_img:\n",
    "                continue\n",
    "            # Get the face encodings for the face in each image file\n",
    "            face = face_recognition.load_image_file(\n",
    "                dir + person + \"/\" + person_img)\n",
    "            face_bounding_boxes = face_recognition.face_locations(face)\n",
    "\n",
    "            # If training image contains exactly one face\n",
    "            if len(face_bounding_boxes) == 1:\n",
    "                face_enc = face_recognition.face_encodings(face)[0]\n",
    "                # Add face encoding for current image\n",
    "                # with corresponding label (name) to the training data\n",
    "                encodings.append(face_enc)\n",
    "                names.append(person)\n",
    "            else:\n",
    "                print(person + \"/\" + person_img + \" can't be used for training\")\n",
    "\n",
    "    # Create and train the SVC classifier\n",
    "    \n",
    "    ##### Change to Model of Choice\n",
    "\n",
    "    clf.fit(encodings, names)\n",
    "    return(clf.score(encodings, names))\n",
    "    \n",
    "    ##### Change to Model of Choice\n"
   ]
  },
  {
   "cell_type": "code",
   "execution_count": 23,
   "metadata": {},
   "outputs": [],
   "source": [
    "import anvil.media\n",
    "\n",
    "@anvil.server.callable\n",
    "def identify_faces(file):\n",
    "    \n",
    "    with anvil.media.TempFile(file) as imageFile:\n",
    "        result_set = face_recognize('new_dir', imageFile, 1)\n",
    "    \n",
    "    result_arr = [] \n",
    "    for item in result_set:\n",
    "        result_arr.append(item)\n",
    "    \n",
    "    edit_attendance_spreadsheet(result_arr)\n",
    "    \n",
    "    unknown_people = 0\n",
    "    \n",
    "    for result in result_arr:\n",
    "        if type(result) == tuple:\n",
    "            unknown_people += 1\n",
    "    \n",
    "    return unknown_people\n",
    "    \n",
    "    "
   ]
  },
  {
   "cell_type": "code",
   "execution_count": 8,
   "metadata": {},
   "outputs": [],
   "source": [
    "def edit_attendance_spreadsheet(result_arr):\n",
    "    \n",
    "    df = pd.read_csv('attendance_spreadsheet.csv')\n",
    "    \n",
    "    s = open('attendance_spreadsheet.csv')\n",
    "    csv_reader = csv.reader(s)\n",
    "    \n",
    "    rows = []\n",
    "        \n",
    "    if (not df.empty):\n",
    "        for row in csv_reader:\n",
    "            student = row[0]\n",
    "            attendance = int(row[1])\n",
    "\n",
    "            if student in result_arr:\n",
    "                attendance += 1\n",
    "\n",
    "            rows.append([student, attendance])\n",
    "            \n",
    "        s.close()\n",
    "\n",
    "        r = open('attendance_spreadsheet.csv', 'w')\n",
    "        csv_writer = csv.writer(r)\n",
    "        with r:\n",
    "            csv_writer.writerows(rows)\n",
    "        \n",
    "        r.close()\n",
    "\n",
    "    else: \n",
    "        r = open('attendance_spreadsheet.csv', 'w')\n",
    "        csv_writer = csv.writer(r)\n",
    "        \n",
    "        with r:\n",
    "            for i in range(len(result_arr)):\n",
    "                csv_writer.writerow([result_arr[i], 1])\n",
    "        \n",
    "        r.close()\n",
    "    \n",
    "        \n",
    "    "
   ]
  },
  {
   "cell_type": "code",
   "execution_count": 9,
   "metadata": {},
   "outputs": [],
   "source": [
    "@anvil.server.callable \n",
    "def train_model(name):\n",
    "    accuracy = face_recognize(name, '', 0)\n",
    "    return accuracy\n",
    "   \n",
    "\n",
    "    "
   ]
  },
  {
   "cell_type": "code",
   "execution_count": 10,
   "metadata": {},
   "outputs": [],
   "source": [
    "@anvil.server.callable\n",
    "def create_empty_csv():\n",
    "    df = pd.DataFrame(list())\n",
    "    df.to_csv('attendance_spreadsheet.csv')"
   ]
  },
  {
   "cell_type": "markdown",
   "metadata": {},
   "source": [
    "## Dealing with Zoom Bombers"
   ]
  },
  {
   "cell_type": "code",
   "execution_count": 11,
   "metadata": {},
   "outputs": [
    {
     "name": "stdout",
     "output_type": "stream",
     "text": [
      "['Hammond', 'Clarkson', 'May']\n",
      "['Clarkson']\n",
      "['Clarkson', ((25, 135, 87, 73), 'unknown-male')]\n"
     ]
    }
   ],
   "source": [
    "def unknowns(attendance_set, test_image):\n",
    "    if 'Unknowns' not in os.listdir():\n",
    "        os.mkdir('Unknowns')\n",
    "    i = 0\n",
    "    for item in attendance_set:\n",
    "        if type(item) == tuple:\n",
    "            item = item[0]\n",
    "            \n",
    "        if type(item) != np.str_ :\n",
    "            image = face_recognition.load_image_file(test_image)\n",
    "            top, right, bottom, left = item\n",
    "            faceImage = image[top:bottom, left:right]\n",
    "            final = Image.fromarray(faceImage)\n",
    "            final.save('Unknowns/unknown_' + str(i) + '.jpg')\n",
    "            i = i + 1\n",
    "    if len(os.listdir('Unknowns')) == 0:\n",
    "        print('No Unknown Faces')\n",
    "        return\n",
    "        \n",
    "    for file in os.listdir('Unknowns'):\n",
    "        if file != '.DS_Store':\n",
    "            image = Image.open('Unknowns/' + file)\n",
    "            image.show()\n",
    "            classification = input('Type of Person: ')\n",
    "            if classification == 'Unknown Male':\n",
    "                shutil.move('Unknowns/' + file, 'train_dir/unknown-male/' + file)\n",
    "            elif classification == 'Unknown Female':\n",
    "                shutil.move('Unknowns/' +file, 'train_dir/unknown-female/' + file)\n",
    "            else:\n",
    "                shutil.move('Unknowns/' +file, 'train_dir/' + classification + '/' + file)\n",
    "    print('Unknown Faces Accounted')\n",
    "    return\n",
    "    \n",
    "            \n",
    "    \n",
    "            \n"
   ]
  },
  {
   "cell_type": "code",
   "execution_count": null,
   "metadata": {},
   "outputs": [],
   "source": []
  },
  {
   "cell_type": "code",
   "execution_count": null,
   "metadata": {},
   "outputs": [],
   "source": []
  }
 ],
 "metadata": {
  "kernelspec": {
   "display_name": "Python 3",
   "language": "python",
   "name": "python3"
  },
  "language_info": {
   "codemirror_mode": {
    "name": "ipython",
    "version": 3
   },
   "file_extension": ".py",
   "mimetype": "text/x-python",
   "name": "python",
   "nbconvert_exporter": "python",
   "pygments_lexer": "ipython3",
   "version": "3.7.4"
  }
 },
 "nbformat": 4,
 "nbformat_minor": 4
}
